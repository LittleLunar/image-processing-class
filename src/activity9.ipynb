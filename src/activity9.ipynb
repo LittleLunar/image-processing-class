{
 "cells": [
  {
   "cell_type": "markdown",
   "metadata": {},
   "source": [
    "### Import Library ###"
   ]
  },
  {
   "cell_type": "code",
   "execution_count": null,
   "metadata": {},
   "outputs": [],
   "source": [
    "import cv2\n",
    "import numpy as np\n",
    "from matplotlib import pyplot as plt\n",
    "import glob\n",
    "from keras.preprocessing import image\n",
    "from sklearn.cluster import KMeans\n",
    "from skimage.feature import hog\n",
    "from skimage import exposure\n",
    "from skimage.measure import label"
   ]
  },
  {
   "cell_type": "markdown",
   "metadata": {},
   "source": [
    "## 9.1 Prepare HoG feature ##"
   ]
  },
  {
   "cell_type": "markdown",
   "metadata": {},
   "source": [
    "### 9.1.1 View HoG feature of image ###"
   ]
  },
  {
   "cell_type": "code",
   "execution_count": 10,
   "metadata": {},
   "outputs": [],
   "source": [
    "dataset_path = './assets/Animals/'"
   ]
  },
  {
   "cell_type": "code",
   "execution_count": 11,
   "metadata": {},
   "outputs": [
    {
     "data": {
      "text/plain": [
       "['./assets/Animals/Dogs/dog10.jpg',\n",
       " './assets/Animals/Dogs/dog5.jpg',\n",
       " './assets/Animals/Dogs/dog11.png',\n",
       " './assets/Animals/Dogs/dog4.jpg',\n",
       " './assets/Animals/Dogs/dog6.jpg',\n",
       " './assets/Animals/Dogs/dog7.jpg',\n",
       " './assets/Animals/Dogs/dog12.jpg',\n",
       " './assets/Animals/Dogs/dog3.jpg',\n",
       " './assets/Animals/Dogs/dog2.jpg',\n",
       " './assets/Animals/Dogs/dog1.jpg',\n",
       " './assets/Animals/Dogs/dog9.jpg',\n",
       " './assets/Animals/Dogs/dog8.jpg',\n",
       " './assets/Animals/Cats/cat8.webp',\n",
       " './assets/Animals/Cats/cat1.jpg',\n",
       " './assets/Animals/Cats/cat3.webp',\n",
       " './assets/Animals/Cats/cat7.jpg',\n",
       " './assets/Animals/Cats/cat6.jpg',\n",
       " './assets/Animals/Cats/cat10.jpg',\n",
       " './assets/Animals/Cats/cat4.jpg',\n",
       " './assets/Animals/Cats/cat5.jpg',\n",
       " './assets/Animals/Cats/cat9.jpg',\n",
       " './assets/Animals/Cats/cat2.jpeg']"
      ]
     },
     "execution_count": 11,
     "metadata": {},
     "output_type": "execute_result"
    }
   ],
   "source": [
    "# image_path = glob.glob(f'{dataset_path}**/*')\n",
    "# image_path"
   ]
  },
  {
   "cell_type": "code",
   "execution_count": 12,
   "metadata": {},
   "outputs": [],
   "source": [
    "# image_storage = []\n",
    "\n",
    "# for path in image_path:\n",
    "#   image = cv2.cvtColor(cv2.imread(path), cv2.COLOR_BGR2RGB)\n",
    "#   image_storage.append(image)\n",
    "\n"
   ]
  },
  {
   "cell_type": "code",
   "execution_count": null,
   "metadata": {},
   "outputs": [],
   "source": [
    "# Create Image Feature\n",
    "hogfeatures = 0\n",
    "  # Bluring image to reduce noise\n",
    "blur = cv2.GaussianBlur(img, (5, 5), 0) # Gaussian Filtering\n",
    "# Calculate HoG of image\n",
    "fd, hog_image = hog(blur, orientations=9, pixels_per_cell=(8,8), cells_per_block=(2,2), visualize=True, multichannel=True)"
   ]
  },
  {
   "cell_type": "markdown",
   "metadata": {},
   "source": [
    "### 9.1.2 Prepare HoG feature of subimages ###"
   ]
  },
  {
   "cell_type": "code",
   "execution_count": null,
   "metadata": {},
   "outputs": [],
   "source": [
    "# Define block size for subimage\n",
    "height, width = 0,0\n",
    "Block_size = (height, width)\n",
    "# Define stride\n",
    "# stride = (tx, ty)"
   ]
  },
  {
   "cell_type": "markdown",
   "metadata": {},
   "source": [
    "## 9.2 Image Segmentation using K-Mean clustering ##"
   ]
  },
  {
   "cell_type": "markdown",
   "metadata": {},
   "source": [
    "### 9.2.1 K-Mean clustering ###"
   ]
  },
  {
   "cell_type": "code",
   "execution_count": 13,
   "metadata": {},
   "outputs": [],
   "source": [
    "# Clean feature in NA\n",
    "# fillna(0)"
   ]
  },
  {
   "cell_type": "markdown",
   "metadata": {},
   "source": [
    "### 9.2.2 Region of Interest ( ROI )"
   ]
  },
  {
   "cell_type": "code",
   "execution_count": null,
   "metadata": {},
   "outputs": [],
   "source": [
    "# K-Mean Clustering\n",
    "N = 2\n",
    "kmeans = KMeans(n_clusters=N, random_state=0)\n",
    "clusters = kmeans.fit_predict(hogfeatures)"
   ]
  },
  {
   "cell_type": "code",
   "execution_count": null,
   "metadata": {},
   "outputs": [],
   "source": [
    "# Reshape clusterID result to Grid\n",
    "cluster_array = clusters.reshape(len(posR), len(posH))"
   ]
  },
  {
   "cell_type": "code",
   "execution_count": 14,
   "metadata": {},
   "outputs": [],
   "source": [
    "# View cluster_array Result\n",
    "# Print(cluster_array)\n",
    "# imshow(cluster_array)"
   ]
  },
  {
   "cell_type": "markdown",
   "metadata": {},
   "source": [
    "## 9.3 ROI : Region of Interest Drawing ROI bounding box ##"
   ]
  },
  {
   "cell_type": "code",
   "execution_count": 15,
   "metadata": {},
   "outputs": [
    {
     "ename": "NameError",
     "evalue": "name 'measure' is not defined",
     "output_type": "error",
     "traceback": [
      "\u001b[0;31m---------------------------------------------------------------------------\u001b[0m",
      "\u001b[0;31mNameError\u001b[0m                                 Traceback (most recent call last)",
      "\u001b[1;32m/Users/littlelunar/workspace/image-processing-class/src/activity9.ipynb Cell 19'\u001b[0m in \u001b[0;36m<cell line: 2>\u001b[0;34m()\u001b[0m\n\u001b[1;32m      <a href='vscode-notebook-cell:/Users/littlelunar/workspace/image-processing-class/src/activity9.ipynb#ch0000022?line=0'>1</a>\u001b[0m \u001b[39m# ReAssign Label in case of multiple ROIs with the same clusterID\u001b[39;00m\n\u001b[0;32m----> <a href='vscode-notebook-cell:/Users/littlelunar/workspace/image-processing-class/src/activity9.ipynb#ch0000022?line=1'>2</a>\u001b[0m all_label \u001b[39m=\u001b[39m measure\u001b[39m.\u001b[39mlabel(cluster_array)\n\u001b[1;32m      <a href='vscode-notebook-cell:/Users/littlelunar/workspace/image-processing-class/src/activity9.ipynb#ch0000022?line=2'>3</a>\u001b[0m \u001b[39m# Define bounding box parameter\u001b[39;00m\n\u001b[1;32m      <a href='vscode-notebook-cell:/Users/littlelunar/workspace/image-processing-class/src/activity9.ipynb#ch0000022?line=3'>4</a>\u001b[0m color \u001b[39m=\u001b[39m (\u001b[39m255\u001b[39m, \u001b[39m0\u001b[39m, \u001b[39m0\u001b[39m)\n",
      "\u001b[0;31mNameError\u001b[0m: name 'measure' is not defined"
     ]
    }
   ],
   "source": [
    "# ReAssign Label in case of multiple ROIs with the same clusterID\n",
    "all_label = measure.label(cluster_array)\n",
    "# Define bounding box parameter\n",
    "color = (255, 0, 0)\n",
    "thickness = 1"
   ]
  },
  {
   "cell_type": "code",
   "execution_count": null,
   "metadata": {},
   "outputs": [],
   "source": [
    "# ROI bounding box\n",
    "nClass = np.unique(all_labels)\n",
    "for i in nClass:\n",
    "  # calculate from grid to actual position\n",
    "  objPos = np.argwhere(all_labels==i)\n",
    "  startBlockH = objPos[:,0].min()\n",
    "  endBlockH = objPos[:, 0].max()\n",
    "  startBlockW = objPos[:, 1].min()\n",
    "  endBlockW = objPos[:, 1].max()\n",
    "  startF = (posCol[startBlockW], posR[startBlockH])\n",
    "  endF = (posCol[endBlockW]+Block_size[1], posR[endBlockH]+Block_size[0])"
   ]
  }
 ],
 "metadata": {
  "interpreter": {
   "hash": "00a5eb0dd1f874d4f0c8f63b520ea1e390d78d7b540f729d7df78767a1deaaf8"
  },
  "kernelspec": {
   "display_name": "Python 3.9.11 64-bit ('image-processing-class')",
   "language": "python",
   "name": "python3"
  },
  "language_info": {
   "codemirror_mode": {
    "name": "ipython",
    "version": 3
   },
   "file_extension": ".py",
   "mimetype": "text/x-python",
   "name": "python",
   "nbconvert_exporter": "python",
   "pygments_lexer": "ipython3",
   "version": "3.9.11"
  },
  "orig_nbformat": 4
 },
 "nbformat": 4,
 "nbformat_minor": 2
}

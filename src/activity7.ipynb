{
 "cells": [
  {
   "cell_type": "markdown",
   "metadata": {},
   "source": [
    "### Import Library"
   ]
  },
  {
   "cell_type": "code",
   "execution_count": 1,
   "metadata": {},
   "outputs": [],
   "source": [
    "import numpy as np\n",
    "import cv2\n",
    "from keras.preprocessing.image import ImageDataGenerator\n",
    "from matplotlib import pyplot as plt"
   ]
  },
  {
   "cell_type": "markdown",
   "metadata": {},
   "source": [
    "## 7.1 Effects of interpolation techniques in Image Resizing"
   ]
  },
  {
   "cell_type": "code",
   "execution_count": 2,
   "metadata": {},
   "outputs": [],
   "source": [
    "# Read Image file\n",
    "image = cv2.cvtColor(cv2.imread(\"./assets/images/groupImage.jpg\"), cv2.COLOR_BGR2RGB)\n",
    "grid = cv2.imread(\"./assets/images/Grid_Image.JPG\", 0)"
   ]
  },
  {
   "cell_type": "code",
   "execution_count": 4,
   "metadata": {},
   "outputs": [],
   "source": [
    "# Define resize factor\n",
    "Reduce_factors = 1 # [2, 4, 5, 7, 8, 10, 15] อย่างน้อย 3 ค่า\n",
    "Scale_factors = 1 / Reduce_factors\n",
    "\n",
    "# Define interpolation method\n",
    "inter_method = [cv2.INTER_NEAREST, cv2.INTER_LINEAR, cv2.INTER_CUBIC, cv2.INTER_AREA]"
   ]
  },
  {
   "cell_type": "code",
   "execution_count": null,
   "metadata": {},
   "outputs": [],
   "source": [
    "# Display results using each scale_factors & interpolation methods\n",
    "\n",
    "# cv2.resize(scale_factors, inter_methods)"
   ]
  },
  {
   "cell_type": "markdown",
   "metadata": {},
   "source": [
    "## 7.2 Image Augmentation using KERAS ImageDataGenerator"
   ]
  },
  {
   "cell_type": "code",
   "execution_count": 5,
   "metadata": {},
   "outputs": [],
   "source": [
    "# Read image file\n",
    "image = cv2.imread(\"./assets/images/groupImage.jpg\")"
   ]
  },
  {
   "cell_type": "code",
   "execution_count": null,
   "metadata": {},
   "outputs": [],
   "source": [
    "# Define fill mode\n",
    "fill_mode = [\"constant\",\"nearest\",\"reflect\",\"wrap\"]"
   ]
  },
  {
   "cell_type": "code",
   "execution_count": 6,
   "metadata": {},
   "outputs": [],
   "source": [
    "# Define parameters\n",
    "Npic = 0\n",
    "rotation_range = 0\n",
    "width_shift_range = 0\n",
    "height_shift_range = 0\n",
    "shear_range = 0\n",
    "zoom_range = 0\n",
    "horizontal_flip = 0"
   ]
  },
  {
   "cell_type": "code",
   "execution_count": null,
   "metadata": {},
   "outputs": [],
   "source": [
    "# Define VideoWriter\n",
    "frame_rate = 30\n",
    "k = 7\n",
    "out_path = './assets/videos/ac7.mp4'\n",
    "(h, w) = image.shape[:2]\n",
    "fourcc = cv2.VideoWriter_fourcc(*'MP4V')\n",
    "writer = cv2.VideoWriter(out_path, fourcc, frame_rate, (w,h))\n",
    "\n",
    "# Define ImageDataGenerator with parameters\n",
    "for m in fill_mode:\n",
    "    datagen = ImageDataGenerator( rotation_range,\n",
    "                                    width_shift_range,\n",
    "                                    height_shift_range,\n",
    "                                    shear_range,\n",
    "                                    zoom_range,\n",
    "                                    horizontal_flip,\n",
    "                                    fill_mode = m)\n",
    "    \n",
    "    # Create our batch of one image\n",
    "    pic = datagen.flow(image, batch_size=1)\n",
    "\n",
    "    # Random generate transformed images and write to a video file\n",
    "    for i in range(1, Npic):\n",
    "        batch = pic.next()\n",
    "        im_result = batch[0].astype('uint8')\n",
    "        writer.write(im_result)\n",
    "\n",
    "writer.release()"
   ]
  }
 ],
 "metadata": {
  "interpreter": {
   "hash": "9fa507dd55687d9bd3a92fbb5a5702704b4e2d5ec564041b58e0a865f1c287d6"
  },
  "kernelspec": {
   "display_name": "Python 3.10.2 ('venv': venv)",
   "language": "python",
   "name": "python3"
  },
  "language_info": {
   "codemirror_mode": {
    "name": "ipython",
    "version": 3
   },
   "file_extension": ".py",
   "mimetype": "text/x-python",
   "name": "python",
   "nbconvert_exporter": "python",
   "pygments_lexer": "ipython3",
   "version": "3.10.2"
  },
  "orig_nbformat": 4
 },
 "nbformat": 4,
 "nbformat_minor": 2
}

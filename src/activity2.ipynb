{
 "cells": [
  {
   "cell_type": "markdown",
   "metadata": {},
   "source": [
    "### Import Library ###"
   ]
  },
  {
   "cell_type": "code",
   "execution_count": 1,
   "metadata": {},
   "outputs": [],
   "source": [
    "import cv2\n",
    "import numpy as np\n",
    "import matplotlib.pyplot as plt\n",
    "import os"
   ]
  },
  {
   "cell_type": "markdown",
   "metadata": {},
   "source": [
    "### Loading Image, Convert Color model, Split channel ###"
   ]
  },
  {
   "cell_type": "code",
   "execution_count": null,
   "metadata": {},
   "outputs": [],
   "source": [
    "groupImage_path = './assets/images/groupImage.jpg'"
   ]
  },
  {
   "cell_type": "code",
   "execution_count": null,
   "metadata": {},
   "outputs": [],
   "source": [
    "bgr_image = cv2.imread(groupImage_path)\n",
    "rgb_image = cv2.cvtColor(bgr_image, cv2.COLOR_BGR2RGB)\n",
    "hsv_image = cv2.cvtColor(bgr_image, cv2.COLOR_BGR2HSV)\n",
    "hls_image = cv2.cvtColor(bgr_image, cv2.COLOR_BGR2HLS)\n",
    "ycrcb_image = cv2.cvtColor(bgr_image, cv2.COLOR_BGR2YCrCb)"
   ]
  },
  {
   "cell_type": "code",
   "execution_count": null,
   "metadata": {},
   "outputs": [],
   "source": [
    "print(\"rgb_image:\", rgb_image)\n",
    "print(\"hsv_image:\", hsv_image)\n",
    "print(\"hls_image:\", hls_image)\n",
    "print(\"ycrcb_image:\", ycrcb_image)"
   ]
  },
  {
   "cell_type": "code",
   "execution_count": null,
   "metadata": {},
   "outputs": [],
   "source": [
    "rgb_r,rgb_g,rgb_b = cv2.split(rgb_image)\n",
    "hsv_h,hsv_s,hsv_v = cv2.split(hsv_image)\n",
    "hls_h,hls_l,hls_s = cv2.split(hls_image)\n",
    "ycrcb_y,ycrcb_cr,ycrcb_cb = cv2.split(ycrcb_image)"
   ]
  },
  {
   "cell_type": "markdown",
   "metadata": {},
   "source": [
    "## 2.1 RGB, HSV, HLS, YCrCb ##"
   ]
  },
  {
   "cell_type": "code",
   "execution_count": null,
   "metadata": {},
   "outputs": [],
   "source": [
    "plt.figure(figsize=(17,16))\n",
    "\n",
    "rgb_plot = plt.subplot(4,4,1)\n",
    "plt.imshow(rgb_image)\n",
    "plt.title('RGB')\n",
    "\n",
    "r_plot = plt.subplot(4,4,2)\n",
    "plt.imshow(rgb_r, cmap='gray')\n",
    "plt.title('R')\n",
    "\n",
    "g_plot = plt.subplot(4,4,3)\n",
    "plt.imshow(rgb_g, cmap='gray')\n",
    "plt.title('G')\n",
    "\n",
    "b_plot = plt.subplot(4,4,4)\n",
    "plt.imshow(rgb_b, cmap='gray')\n",
    "plt.title('B')\n",
    "\n",
    "hsv_plot = plt.subplot(4,4,5)\n",
    "plt.imshow(hsv_image)\n",
    "plt.title('HSV')\n",
    "\n",
    "h_plot = plt.subplot(4,4,6)\n",
    "plt.imshow(hsv_h, cmap='gray')\n",
    "plt.title('H')\n",
    "\n",
    "s_plot = plt.subplot(4,4,7)\n",
    "plt.imshow(hsv_s, cmap='gray')\n",
    "plt.title('S')\n",
    "\n",
    "v_plot = plt.subplot(4,4,8)\n",
    "plt.imshow(hsv_v, cmap='gray')\n",
    "plt.title('V')\n",
    "\n",
    "hls_plot = plt.subplot(4,4,9)\n",
    "plt.imshow(hls_image)\n",
    "plt.title('HLS')\n",
    "\n",
    "h_plot = plt.subplot(4,4,10)\n",
    "plt.imshow(hls_h, cmap='gray')\n",
    "plt.title('H')\n",
    "\n",
    "l_plot = plt.subplot(4,4,11)\n",
    "plt.imshow(hls_l, cmap='gray')\n",
    "plt.title('L')\n",
    "\n",
    "s_plot = plt.subplot(4,4,12)\n",
    "plt.imshow(hls_s, cmap='gray')\n",
    "plt.title('S')\n",
    "\n",
    "ycrcb_plot = plt.subplot(4,4,13)\n",
    "plt.imshow(ycrcb_image)\n",
    "plt.title('YCrCb')\n",
    "\n",
    "y_plot = plt.subplot(4,4,14)\n",
    "plt.imshow(ycrcb_y, cmap='gray')\n",
    "plt.title('Y')\n",
    "\n",
    "cr_plot = plt.subplot(4,4,15)\n",
    "plt.imshow(ycrcb_cr, cmap='gray')\n",
    "plt.title('Cr')\n",
    "\n",
    "cb_plot = plt.subplot(4,4,16)\n",
    "plt.imshow(ycrcb_cb, cmap='gray')\n",
    "plt.title('Cb')"
   ]
  },
  {
   "cell_type": "markdown",
   "metadata": {},
   "source": [
    "## 2.2 Image Addition ##"
   ]
  },
  {
   "cell_type": "code",
   "execution_count": 3,
   "metadata": {},
   "outputs": [],
   "source": [
    "\n",
    "images_path = './assets/list'\n",
    "video_out = './assets/videos/week2.mp4'\n",
    "frame_rate = 30\n",
    "k = 7\n",
    "images = []\n",
    "\n",
    "for image_name in os.listdir(images_path):\n",
    "    images.append(cv2.imread(os.path.join(images_path, image_name)))\n",
    "\n",
    "(h, w, _) = images[0].shape\n",
    "fourcc = cv2.VideoWriter_fourcc(*'MP4V')\n",
    "writer = cv2.VideoWriter(video_out, fourcc, frame_rate, (w,h))\n",
    "\n",
    "cur, nex = 0, 1\n",
    "frames = []\n",
    "if writer.isOpened():\n",
    "    # print('Writer is opened')\n",
    "    for i in range(2):\n",
    "        for j in range(k * frame_rate):\n",
    "            ratio_change = j / (k * frame_rate)\n",
    "            # frame = cv2.add(((1 - ratio_change) * images[cur]),(ratio_change * images[nex]))\n",
    "            frame = ((1 - ratio_change) * images[cur]) + (ratio_change * images[nex])\n",
    "            frame = frame.astype('uint8')\n",
    "            # frames.append(frame)\n",
    "            # print(f'{i}',frame)\n",
    "            # plt.imshow(frame)\n",
    "            writer.write(frame)\n",
    "            # break\n",
    "\n",
    "        cur ,nex = nex, cur\n",
    "    \n",
    "\n",
    "writer.release()"
   ]
  },
  {
   "cell_type": "markdown",
   "metadata": {},
   "source": [
    "## 2.3 Bitwise AND operation ##"
   ]
  },
  {
   "cell_type": "code",
   "execution_count": null,
   "metadata": {},
   "outputs": [],
   "source": [
    "\n",
    "\n",
    "(x, y) = (50, 50)\n",
    "(w, h) = (50, 50)\n",
    "(area_h , area_w) = rgb_image.shape[:2]\n",
    "mask = np.zeros(rgb_image.shape[:2], dtype=\"uint8\")\n",
    "cv2.rectangle(mask, (x, y), (x + w, y + h), 255, -1)\n",
    "bitwise_and_image = cv2.bitwise_and(rgb_image, rgb_image, mask=mask)\n",
    "\n",
    "sumo_plot = plt.subplot(1,3,1)\n",
    "plt.imshow(rgb_image)\n",
    "plt.title('Original')\n",
    "\n",
    "image_mask = plt.subplot(1,3,2)\n",
    "plt.imshow(mask)\n",
    "plt.title('Image Mask')\n",
    "\n",
    "and_plot = plt.subplot(1,3,3)\n",
    "plt.imshow(bitwise_and_image)\n",
    "plt.title('Bitwise_AND() result')\n",
    "\n",
    "# (x, y) = (50,50)\n",
    "# (width, height) = (200,200)\n",
    "# # print(rgb_image.shape[:2])\n",
    "# mask = np.zeros(rgb_image.shape[:2])\n",
    "# # mask[x:width, y:height] = 255\n",
    "# cv2.rectangle(mask, (x,y), (x + width, y + height), 255, -1)\n",
    "# cv2.imshow('',mask)\n",
    "# bitwise_and_image = cv2.bitwise_and(rgb_image, rgb_image, mask = mask)\n",
    "# # bitwise_and_image, mask = bitwise_AND(rgb_image, x, y, width, height)\n",
    "\n",
    "# plt.figure(figsize=(10,9))\n",
    "\n",
    "# sumo_plot = plt.subplot(1,3,1)\n",
    "# plt.imshow(rgb_image)\n",
    "# plt.title('Original')\n",
    "\n",
    "# image_mask = plt.subplot(1,3,2)\n",
    "# plt.imshow(mask.astype(int))\n",
    "# plt.title('Image Mask')\n",
    "\n",
    "# and_plot = plt.subplot(1,3,3)\n",
    "# plt.imshow(bitwise_and_image.astype(int))\n",
    "# plt.title('Bitwise_AND() result')\n",
    "\n"
   ]
  }
 ],
 "metadata": {
  "interpreter": {
   "hash": "2d6cb4a12d7921347a9b98464f61a5bb890d596152eb104b12e558a3c8ccb027"
  },
  "kernelspec": {
   "display_name": "Python 3.9.9 64-bit ('venv': venv)",
   "language": "python",
   "name": "python3"
  },
  "language_info": {
   "codemirror_mode": {
    "name": "ipython",
    "version": 3
   },
   "file_extension": ".py",
   "mimetype": "text/x-python",
   "name": "python",
   "nbconvert_exporter": "python",
   "pygments_lexer": "ipython3",
   "version": "3.9.11"
  },
  "orig_nbformat": 4
 },
 "nbformat": 4,
 "nbformat_minor": 2
}

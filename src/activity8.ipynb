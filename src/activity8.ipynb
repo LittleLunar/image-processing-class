{
 "cells": [
  {
   "cell_type": "markdown",
   "metadata": {},
   "source": [
    "### Import Library ###"
   ]
  },
  {
   "cell_type": "code",
   "execution_count": 1,
   "metadata": {},
   "outputs": [],
   "source": [
    "import numpy as np\n",
    "import cv2\n",
    "from matplotlib import pyplot as plt\n",
    "import glob\n",
    "from keras.preprocessing import image\n",
    "from scipy import spatial"
   ]
  },
  {
   "cell_type": "markdown",
   "metadata": {},
   "source": [
    "## 8.1 Prepare features"
   ]
  },
  {
   "cell_type": "markdown",
   "metadata": {},
   "source": [
    "### Main images"
   ]
  },
  {
   "cell_type": "code",
   "execution_count": 2,
   "metadata": {},
   "outputs": [],
   "source": [
    "# Load main image\n",
    "main_image = cv2.imread('')"
   ]
  },
  {
   "cell_type": "code",
   "execution_count": null,
   "metadata": {},
   "outputs": [],
   "source": [
    "# Define tile size\n",
    "tile_size = (height, width) = main_image.shape[:2]"
   ]
  },
  {
   "cell_type": "code",
   "execution_count": null,
   "metadata": {},
   "outputs": [],
   "source": [
    "# Create main image feature grid of subimage\n",
    "  # Calculate average (mean) color of each subimage with tile_size\n"
   ]
  },
  {
   "cell_type": "markdown",
   "metadata": {},
   "source": [
    "### Tile images"
   ]
  },
  {
   "cell_type": "code",
   "execution_count": null,
   "metadata": {},
   "outputs": [],
   "source": [
    "# Collect filenames of all tile images\n",
    "All_files = glob.glob()"
   ]
  },
  {
   "cell_type": "code",
   "execution_count": null,
   "metadata": {},
   "outputs": [],
   "source": [
    "# Load tile images and resize to tile_size\n",
    "tiles=[]\n",
    "tile = load_img(target_size=tile_size)\n",
    "tiles.append(tile)"
   ]
  },
  {
   "cell_type": "code",
   "execution_count": null,
   "metadata": {},
   "outputs": [],
   "source": [
    "# Create array of average (mean) color of each tile image\n",
    "Tile_features = []\n",
    "for tile in tiles:\n",
    "  mean_color = np.array(tile).mean(axis=(0,1))\n",
    "  Tile_features.append(mean_color)"
   ]
  },
  {
   "cell_type": "markdown",
   "metadata": {},
   "source": [
    "## 8.2 Image Clustering and Matching using KNN with KDTree Algorithm ##"
   ]
  },
  {
   "cell_type": "code",
   "execution_count": null,
   "metadata": {},
   "outputs": [],
   "source": [
    "#Create KDTree of tile color features\n",
    "tree = spatial.KDTree(Tile_features)"
   ]
  },
  {
   "cell_type": "code",
   "execution_count": null,
   "metadata": {},
   "outputs": [],
   "source": [
    "#KNN (k=1) search for best matched tiles with each subimage\n",
    "for i in range(height):\n",
    "  for j in range(width):\n",
    "    closest = tree.query(main_image_feature [i,j])\n",
    "    closest_tiles[i, j] = closest[1]"
   ]
  },
  {
   "cell_type": "markdown",
   "metadata": {},
   "source": [
    "## 8.3 Create Image Mosaic"
   ]
  },
  {
   "cell_type": "code",
   "execution_count": null,
   "metadata": {},
   "outputs": [],
   "source": [
    "# Fill each subimage with matched tile\n",
    "# Offset of tile\n",
    "x, y = i*tile_size[0], j*tile_size[1]\n",
    "# Index of tile\n",
    "index = closest_tiles[i, j]\n",
    "main_photo[x:(x+tile_size[0]), y:(y+tile_size[1]),:] = tiles[index]"
   ]
  }
 ],
 "metadata": {
  "interpreter": {
   "hash": "9fa507dd55687d9bd3a92fbb5a5702704b4e2d5ec564041b58e0a865f1c287d6"
  },
  "kernelspec": {
   "display_name": "Python 3.10.2 ('venv': venv)",
   "language": "python",
   "name": "python3"
  },
  "language_info": {
   "codemirror_mode": {
    "name": "ipython",
    "version": 3
   },
   "file_extension": ".py",
   "mimetype": "text/x-python",
   "name": "python",
   "nbconvert_exporter": "python",
   "pygments_lexer": "ipython3",
   "version": "3.10.2"
  },
  "orig_nbformat": 4
 },
 "nbformat": 4,
 "nbformat_minor": 2
}
